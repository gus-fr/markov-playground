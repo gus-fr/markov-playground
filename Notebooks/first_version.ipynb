{
 "cells": [
  {
   "cell_type": "code",
   "execution_count": 2,
   "metadata": {},
   "outputs": [
    {
     "name": "stdout",
     "output_type": "stream",
     "text": [
      "e ndrcnercsArrr. .\n",
      "hrOdao\n",
      "Eh dn d  hk ah,h tI\n",
      "\n",
      " uut  ws\n",
      " spObie.aveLddetouhelaiTk!e arM ndeth\n",
      "\n",
      "mst nEthu Ghhpyrnso\n",
      "asu EEaio ttThheue   nfnptesidJleenltcef \n",
      "Oiir-i\n",
      "d  .hfrt hgs to\n",
      "t-tetaertln a.r nMML\n",
      ".h,cn Ht hfns\n",
      "tat db U ctenurs cdt  IwsAeseeeoPAuto ltrynmpi\n",
      "dnicRlkrP ghede  tmslyLnt iesyuu h sOeC gtoothometn totrca I uadoeesAo l.aloy lC e  e’fihp  r  nss\n",
      "iwspgtursosh   n iocrram’fu Ss ntcw s i,\n",
      "Spaoueom c isFsesi eetu D—Fubhh tHamsenllrn a  VhP—nhaul w iTs rl b ,t fds,hihImD ent;hfthLslh eeoeo onrS Atlnr e\n",
      ".enM nLehtOy rlrorts  uxnAea h\n",
      "aWOht  hEeWh\n",
      "anaaem d,[Aotaot,r iNl  cn,ueWlrtc.stnthshnnt eaoan,e dtbo oouhKgirWamIidevu\n",
      "\n",
      ", y baeetrrlalwoNo ,w t dOinehTdrD  hShurm dheiir  f..\n",
      "  AtpyIh\n",
      "tlatnvo oom p uidlhldId gti tbpkulo   \n",
      "i tt olo_Dr.w awieisafac-noKhKrs\n",
      "K \n",
      "tiArp sty.t\n",
      " trOAnrlhrn  es’s dtmralnrf r’taIrliH\n",
      "uoesMdetdih :hrot onr akw\n",
      " eoB heoioogupeas Tu\n",
      " rn kgha rerdt] edAIshapls i Vms ssli si fjUmN ae sE  HtnrriimvhrtnyewsogE’obyt\n",
      "a\n",
      "rsah _ m geitin uao bnSbI\n",
      "e  csnnoKen l  Tm \n"
     ]
    }
   ],
   "source": [
    "from typing import TextIO\n",
    "import random\n",
    "def read_chunk(file:TextIO,chunk_size:int=1024)->str:\n",
    "    while True:\n",
    "        str_chunk = file.read(chunk_size)\n",
    "        if not str_chunk:\n",
    "            break\n",
    "        yield str_chunk\n",
    "\n",
    "#\"train\"\n",
    "char_frequency={}\n",
    "with open(\"data/shakespeare.txt\", mode=\"r\", encoding=\"utf-8\") as file_obj:\n",
    "    for str_chunk in read_chunk(file_obj):\n",
    "        for char in str_chunk:\n",
    "            if char in char_frequency:\n",
    "                char_frequency[char]+=1\n",
    "            else:\n",
    "                char_frequency[char]=1\n",
    "\n",
    "# index\n",
    "char=[]\n",
    "counts=[]\n",
    "for item,count in char_frequency.items():\n",
    "    char.append(item)\n",
    "    counts.append(count)\n",
    "\n",
    "#Inference\n",
    "print(\"\".join(random.choices(population=char,weights=counts,k=1000)))"
   ]
  }
 ],
 "metadata": {
  "kernelspec": {
   "display_name": "relu",
   "language": "python",
   "name": "python3"
  },
  "language_info": {
   "codemirror_mode": {
    "name": "ipython",
    "version": 3
   },
   "file_extension": ".py",
   "mimetype": "text/x-python",
   "name": "python",
   "nbconvert_exporter": "python",
   "pygments_lexer": "ipython3",
   "version": "3.11.1"
  }
 },
 "nbformat": 4,
 "nbformat_minor": 2
}
